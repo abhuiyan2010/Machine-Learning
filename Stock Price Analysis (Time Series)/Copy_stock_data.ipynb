{
 "cells": [
  {
   "cell_type": "code",
   "execution_count": 1,
   "metadata": {},
   "outputs": [],
   "source": [
    "import yfinance as yf\n",
    "from math import sqrt"
   ]
  },
  {
   "cell_type": "code",
   "execution_count": 2,
   "metadata": {},
   "outputs": [],
   "source": [
    "def parser(x):\n",
    "    return datetime.datetime.strptime(x,'%Y-%m-%d')"
   ]
  },
  {
   "cell_type": "code",
   "execution_count": 3,
   "metadata": {},
   "outputs": [
    {
     "name": "stdout",
     "output_type": "stream",
     "text": [
      "[*********************100%***********************]  1 of 1 completed\n"
     ]
    }
   ],
   "source": [
    "# Get the data for the stock AAPL\n",
    "start = '2012-01-01'\n",
    "end = '2022-10-28'\n",
    "ticker_symbol = 'SPY'\n",
    "\n",
    "stock_data = yf.download(ticker_symbol, start, end)"
   ]
  },
  {
   "cell_type": "code",
   "execution_count": 4,
   "metadata": {},
   "outputs": [
    {
     "data": {
      "text/html": [
       "<div>\n",
       "<style scoped>\n",
       "    .dataframe tbody tr th:only-of-type {\n",
       "        vertical-align: middle;\n",
       "    }\n",
       "\n",
       "    .dataframe tbody tr th {\n",
       "        vertical-align: top;\n",
       "    }\n",
       "\n",
       "    .dataframe thead th {\n",
       "        text-align: right;\n",
       "    }\n",
       "</style>\n",
       "<table border=\"1\" class=\"dataframe\">\n",
       "  <thead>\n",
       "    <tr style=\"text-align: right;\">\n",
       "      <th></th>\n",
       "      <th>Open</th>\n",
       "      <th>High</th>\n",
       "      <th>Low</th>\n",
       "      <th>Close</th>\n",
       "      <th>Adj Close</th>\n",
       "      <th>Volume</th>\n",
       "    </tr>\n",
       "    <tr>\n",
       "      <th>Date</th>\n",
       "      <th></th>\n",
       "      <th></th>\n",
       "      <th></th>\n",
       "      <th></th>\n",
       "      <th></th>\n",
       "      <th></th>\n",
       "    </tr>\n",
       "  </thead>\n",
       "  <tbody>\n",
       "    <tr>\n",
       "      <th>2012-01-03</th>\n",
       "      <td>127.760002</td>\n",
       "      <td>128.380005</td>\n",
       "      <td>127.430000</td>\n",
       "      <td>127.500000</td>\n",
       "      <td>104.071907</td>\n",
       "      <td>193697900</td>\n",
       "    </tr>\n",
       "    <tr>\n",
       "      <th>2012-01-04</th>\n",
       "      <td>127.199997</td>\n",
       "      <td>127.809998</td>\n",
       "      <td>126.709999</td>\n",
       "      <td>127.699997</td>\n",
       "      <td>104.235153</td>\n",
       "      <td>127186500</td>\n",
       "    </tr>\n",
       "    <tr>\n",
       "      <th>2012-01-05</th>\n",
       "      <td>127.010002</td>\n",
       "      <td>128.229996</td>\n",
       "      <td>126.430000</td>\n",
       "      <td>128.039993</td>\n",
       "      <td>104.512657</td>\n",
       "      <td>173895000</td>\n",
       "    </tr>\n",
       "    <tr>\n",
       "      <th>2012-01-06</th>\n",
       "      <td>128.199997</td>\n",
       "      <td>128.220001</td>\n",
       "      <td>127.290001</td>\n",
       "      <td>127.709999</td>\n",
       "      <td>104.243324</td>\n",
       "      <td>148050000</td>\n",
       "    </tr>\n",
       "    <tr>\n",
       "      <th>2012-01-09</th>\n",
       "      <td>128.000000</td>\n",
       "      <td>128.179993</td>\n",
       "      <td>127.410004</td>\n",
       "      <td>128.020004</td>\n",
       "      <td>104.496346</td>\n",
       "      <td>99530200</td>\n",
       "    </tr>\n",
       "    <tr>\n",
       "      <th>...</th>\n",
       "      <td>...</td>\n",
       "      <td>...</td>\n",
       "      <td>...</td>\n",
       "      <td>...</td>\n",
       "      <td>...</td>\n",
       "      <td>...</td>\n",
       "    </tr>\n",
       "    <tr>\n",
       "      <th>2022-10-21</th>\n",
       "      <td>365.119995</td>\n",
       "      <td>374.799988</td>\n",
       "      <td>363.540009</td>\n",
       "      <td>374.290009</td>\n",
       "      <td>374.290009</td>\n",
       "      <td>130897700</td>\n",
       "    </tr>\n",
       "    <tr>\n",
       "      <th>2022-10-24</th>\n",
       "      <td>375.890015</td>\n",
       "      <td>380.059998</td>\n",
       "      <td>373.109985</td>\n",
       "      <td>378.869995</td>\n",
       "      <td>378.869995</td>\n",
       "      <td>85436900</td>\n",
       "    </tr>\n",
       "    <tr>\n",
       "      <th>2022-10-25</th>\n",
       "      <td>378.790009</td>\n",
       "      <td>385.250000</td>\n",
       "      <td>378.670013</td>\n",
       "      <td>384.920013</td>\n",
       "      <td>384.920013</td>\n",
       "      <td>78846300</td>\n",
       "    </tr>\n",
       "    <tr>\n",
       "      <th>2022-10-26</th>\n",
       "      <td>381.619995</td>\n",
       "      <td>387.579987</td>\n",
       "      <td>381.350006</td>\n",
       "      <td>382.019989</td>\n",
       "      <td>382.019989</td>\n",
       "      <td>104087300</td>\n",
       "    </tr>\n",
       "    <tr>\n",
       "      <th>2022-10-27</th>\n",
       "      <td>383.070007</td>\n",
       "      <td>385.000000</td>\n",
       "      <td>379.329987</td>\n",
       "      <td>379.980011</td>\n",
       "      <td>379.980011</td>\n",
       "      <td>81971800</td>\n",
       "    </tr>\n",
       "  </tbody>\n",
       "</table>\n",
       "<p>2724 rows × 6 columns</p>\n",
       "</div>"
      ],
      "text/plain": [
       "                  Open        High         Low       Close   Adj Close  \\\n",
       "Date                                                                     \n",
       "2012-01-03  127.760002  128.380005  127.430000  127.500000  104.071907   \n",
       "2012-01-04  127.199997  127.809998  126.709999  127.699997  104.235153   \n",
       "2012-01-05  127.010002  128.229996  126.430000  128.039993  104.512657   \n",
       "2012-01-06  128.199997  128.220001  127.290001  127.709999  104.243324   \n",
       "2012-01-09  128.000000  128.179993  127.410004  128.020004  104.496346   \n",
       "...                ...         ...         ...         ...         ...   \n",
       "2022-10-21  365.119995  374.799988  363.540009  374.290009  374.290009   \n",
       "2022-10-24  375.890015  380.059998  373.109985  378.869995  378.869995   \n",
       "2022-10-25  378.790009  385.250000  378.670013  384.920013  384.920013   \n",
       "2022-10-26  381.619995  387.579987  381.350006  382.019989  382.019989   \n",
       "2022-10-27  383.070007  385.000000  379.329987  379.980011  379.980011   \n",
       "\n",
       "               Volume  \n",
       "Date                   \n",
       "2012-01-03  193697900  \n",
       "2012-01-04  127186500  \n",
       "2012-01-05  173895000  \n",
       "2012-01-06  148050000  \n",
       "2012-01-09   99530200  \n",
       "...               ...  \n",
       "2022-10-21  130897700  \n",
       "2022-10-24   85436900  \n",
       "2022-10-25   78846300  \n",
       "2022-10-26  104087300  \n",
       "2022-10-27   81971800  \n",
       "\n",
       "[2724 rows x 6 columns]"
      ]
     },
     "execution_count": 4,
     "metadata": {},
     "output_type": "execute_result"
    }
   ],
   "source": [
    "stock_data"
   ]
  },
  {
   "cell_type": "code",
   "execution_count": 5,
   "metadata": {},
   "outputs": [],
   "source": [
    "stock_price = stock_data['Close']"
   ]
  },
  {
   "cell_type": "code",
   "execution_count": 6,
   "metadata": {},
   "outputs": [
    {
     "data": {
      "text/plain": [
       "Date\n",
       "2012-01-03    127.500000\n",
       "2012-01-04    127.699997\n",
       "2012-01-05    128.039993\n",
       "2012-01-06    127.709999\n",
       "2012-01-09    128.020004\n",
       "                 ...    \n",
       "2022-10-21    374.290009\n",
       "2022-10-24    378.869995\n",
       "2022-10-25    384.920013\n",
       "2022-10-26    382.019989\n",
       "2022-10-27    379.980011\n",
       "Name: Close, Length: 2724, dtype: float64"
      ]
     },
     "execution_count": 6,
     "metadata": {},
     "output_type": "execute_result"
    }
   ],
   "source": [
    "stock_price"
   ]
  },
  {
   "cell_type": "code",
   "execution_count": 7,
   "metadata": {},
   "outputs": [],
   "source": [
    "stock_price.to_csv('spy_data.csv')"
   ]
  },
  {
   "cell_type": "code",
   "execution_count": null,
   "metadata": {},
   "outputs": [],
   "source": []
  }
 ],
 "metadata": {
  "kernelspec": {
   "display_name": "Python 3",
   "language": "python",
   "name": "python3"
  },
  "language_info": {
   "codemirror_mode": {
    "name": "ipython",
    "version": 3
   },
   "file_extension": ".py",
   "mimetype": "text/x-python",
   "name": "python",
   "nbconvert_exporter": "python",
   "pygments_lexer": "ipython3",
   "version": "3.8.5"
  }
 },
 "nbformat": 4,
 "nbformat_minor": 4
}
