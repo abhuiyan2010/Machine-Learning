{
 "cells": [
  {
   "cell_type": "code",
   "execution_count": 6,
   "metadata": {},
   "outputs": [
    {
     "name": "stdout",
     "output_type": "stream",
     "text": [
      "Linear regression model is initialized with weights w: 0.08, b: 0.00\n",
      "Epoch 1/30\n",
      "200/200 [==============================] - 0s 752us/step - loss: 1.2113 - mse: 1.2113\n",
      "Epoch 2/30\n",
      "200/200 [==============================] - 0s 578us/step - loss: 0.1715 - mse: 0.1715\n",
      "Epoch 3/30\n",
      "200/200 [==============================] - 0s 574us/step - loss: 0.1660 - mse: 0.1660\n",
      "Epoch 4/30\n",
      "200/200 [==============================] - 0s 564us/step - loss: 0.1610 - mse: 0.1610\n",
      "Epoch 5/30\n",
      "200/200 [==============================] - 0s 604us/step - loss: 0.1563 - mse: 0.1563\n",
      "Epoch 6/30\n",
      "200/200 [==============================] - 0s 608us/step - loss: 0.1521 - mse: 0.1521\n",
      "Epoch 7/30\n",
      "200/200 [==============================] - 0s 643us/step - loss: 0.1482 - mse: 0.1482\n",
      "Epoch 8/30\n",
      "200/200 [==============================] - 0s 608us/step - loss: 0.1446 - mse: 0.1446\n",
      "Epoch 9/30\n",
      "200/200 [==============================] - 0s 584us/step - loss: 0.1413 - mse: 0.1413\n",
      "Epoch 10/30\n",
      "200/200 [==============================] - 0s 583us/step - loss: 0.1383 - mse: 0.1383\n",
      "Epoch 11/30\n",
      "200/200 [==============================] - 0s 574us/step - loss: 0.1355 - mse: 0.1355\n",
      "Epoch 12/30\n",
      "200/200 [==============================] - 0s 583us/step - loss: 0.1330 - mse: 0.1330\n",
      "Epoch 13/30\n",
      "200/200 [==============================] - 0s 568us/step - loss: 0.1306 - mse: 0.1306\n",
      "Epoch 14/30\n",
      "200/200 [==============================] - 0s 569us/step - loss: 0.1285 - mse: 0.1285\n",
      "Epoch 15/30\n",
      "200/200 [==============================] - 0s 529us/step - loss: 0.1265 - mse: 0.1265\n",
      "Epoch 16/30\n",
      "200/200 [==============================] - 0s 539us/step - loss: 0.1247 - mse: 0.1247\n",
      "Epoch 17/30\n",
      "200/200 [==============================] - 0s 659us/step - loss: 0.1230 - mse: 0.1230\n",
      "Epoch 18/30\n",
      "200/200 [==============================] - 0s 571us/step - loss: 0.1215 - mse: 0.1215\n",
      "Epoch 19/30\n",
      "200/200 [==============================] - 0s 657us/step - loss: 0.1201 - mse: 0.1201\n",
      "Epoch 20/30\n",
      "200/200 [==============================] - 0s 554us/step - loss: 0.1188 - mse: 0.1188\n",
      "Epoch 21/30\n",
      "200/200 [==============================] - 0s 499us/step - loss: 0.1176 - mse: 0.1176\n",
      "Epoch 22/30\n",
      "200/200 [==============================] - 0s 556us/step - loss: 0.1165 - mse: 0.1165\n",
      "Epoch 23/30\n",
      "200/200 [==============================] - 0s 603us/step - loss: 0.1155 - mse: 0.1155\n",
      "Epoch 24/30\n",
      "200/200 [==============================] - 0s 527us/step - loss: 0.1146 - mse: 0.1146\n",
      "Epoch 25/30\n",
      "200/200 [==============================] - 0s 543us/step - loss: 0.1138 - mse: 0.1138\n",
      "Epoch 26/30\n",
      "200/200 [==============================] - 0s 743us/step - loss: 0.1130 - mse: 0.1130\n",
      "Epoch 27/30\n",
      "200/200 [==============================] - 0s 577us/step - loss: 0.1123 - mse: 0.1123\n",
      "Epoch 28/30\n",
      "200/200 [==============================] - 0s 568us/step - loss: 0.1117 - mse: 0.1117\n",
      "Epoch 29/30\n",
      "200/200 [==============================] - 0s 574us/step - loss: 0.1111 - mse: 0.1111\n",
      "Epoch 30/30\n",
      "200/200 [==============================] - 0s 563us/step - loss: 0.1105 - mse: 0.1105\n",
      "Linear regression model is trained to have weight w: 3.65, b: 0.70\n"
     ]
    }
   ],
   "source": [
    "import keras\n",
    "from keras.models import Sequential\n",
    "from keras.layers import Dense, Activation\n",
    "import numpy as np\n",
    "import matplotlib.pyplot as plt \n",
    " \n",
    "x = data = np.linspace(1,2,200)\n",
    "y = x*4 + np.random.randn(*x.shape) * 0.3\n",
    "\n",
    "\n",
    "model = Sequential()\n",
    "model.add(Dense(1, input_dim=1, activation='linear'))\n",
    "\n",
    "model.compile(optimizer='sgd', loss='mse', metrics=['mse'])\n",
    "\n",
    "weights = model.layers[0].get_weights()\n",
    "w_init = weights[0][0][0]\n",
    "b_init = weights[1][0]\n",
    "print('Linear regression model is initialized with weights w: %.2f, b: %.2f' % (w_init, b_init)) \n",
    "\n",
    "\n",
    "model.fit(x,y, batch_size=1, epochs=30, shuffle=False)\n",
    "\n",
    "weights = model.layers[0].get_weights()\n",
    "w_final = weights[0][0][0]\n",
    "b_final = weights[1][0]\n",
    "print('Linear regression model is trained to have weight w: %.2f, b: %.2f' % (w_final, b_final))"
   ]
  },
  {
   "cell_type": "code",
   "execution_count": 7,
   "metadata": {},
   "outputs": [
    {
     "data": {
      "image/png": "[encoded data removed]",
      "text/plain": [
       "<Figure size 432x288 with 1 Axes>"
      ]
     },
     "metadata": {
      "needs_background": "light"
     },
     "output_type": "display_data"
    }
   ],
   "source": [
    "predict = model.predict(data)\n",
    "\n",
    "plt.plot(data, predict, 'b', data , y, 'k.')\n",
    "plt.show()"
   ]
  }
 ],
 "metadata": {
  "kernelspec": {
   "display_name": "Python 3",
   "language": "python",
   "name": "python3"
  },
  "language_info": {
   "codemirror_mode": {
    "name": "ipython",
    "version": 3
   },
   "file_extension": ".py",
   "mimetype": "text/x-python",
   "name": "python",
   "nbconvert_exporter": "python",
   "pygments_lexer": "ipython3",
   "version": "3.7.4"
  }
 },
 "nbformat": 4,
 "nbformat_minor": 2
}
