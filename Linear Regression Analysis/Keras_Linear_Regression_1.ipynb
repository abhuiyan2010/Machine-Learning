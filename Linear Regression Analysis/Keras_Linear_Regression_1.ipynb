{
 "cells": [
  {
   "cell_type": "code",
   "execution_count": 14,
   "metadata": {},
   "outputs": [
    {
     "name": "stdout",
     "output_type": "stream",
     "text": [
      "Linear regression model is initialized with weights w: 0.33, b: 0.00\n",
      "Epoch 1/30\n",
      "200/200 [==============================] - 0s 790us/step - loss: 1.0541 - mse: 1.0541\n",
      "Epoch 2/30\n",
      "200/200 [==============================] - 0s 650us/step - loss: 0.1594 - mse: 0.1594\n",
      "Epoch 3/30\n",
      "200/200 [==============================] - 0s 583us/step - loss: 0.1553 - mse: 0.1553\n",
      "Epoch 4/30\n",
      "200/200 [==============================] - 0s 579us/step - loss: 0.1515 - mse: 0.1515\n",
      "Epoch 5/30\n",
      "200/200 [==============================] - 0s 608us/step - loss: 0.1480 - mse: 0.1480\n",
      "Epoch 6/30\n",
      "200/200 [==============================] - 0s 588us/step - loss: 0.1448 - mse: 0.1448\n",
      "Epoch 7/30\n",
      "200/200 [==============================] - 0s 584us/step - loss: 0.1418 - mse: 0.1418\n",
      "Epoch 8/30\n",
      "200/200 [==============================] - 0s 547us/step - loss: 0.1391 - mse: 0.1391\n",
      "Epoch 9/30\n",
      "200/200 [==============================] - 0s 529us/step - loss: 0.1365 - mse: 0.1365\n",
      "Epoch 10/30\n",
      "200/200 [==============================] - 0s 505us/step - loss: 0.1342 - mse: 0.1342\n",
      "Epoch 11/30\n",
      "200/200 [==============================] - 0s 589us/step - loss: 0.1320 - mse: 0.1320\n",
      "Epoch 12/30\n",
      "200/200 [==============================] - 0s 552us/step - loss: 0.1300 - mse: 0.1300\n",
      "Epoch 13/30\n",
      "200/200 [==============================] - 0s 541us/step - loss: 0.1282 - mse: 0.1282\n",
      "Epoch 14/30\n",
      "200/200 [==============================] - 0s 539us/step - loss: 0.1264 - mse: 0.1264\n",
      "Epoch 15/30\n",
      "200/200 [==============================] - 0s 514us/step - loss: 0.1249 - mse: 0.1249\n",
      "Epoch 16/30\n",
      "200/200 [==============================] - 0s 528us/step - loss: 0.1234 - mse: 0.1234\n",
      "Epoch 17/30\n",
      "200/200 [==============================] - 0s 515us/step - loss: 0.1220 - mse: 0.1220\n",
      "Epoch 18/30\n",
      "200/200 [==============================] - 0s 514us/step - loss: 0.1208 - mse: 0.1208\n",
      "Epoch 19/30\n",
      "200/200 [==============================] - 0s 520us/step - loss: 0.1196 - mse: 0.1196\n",
      "Epoch 20/30\n",
      "200/200 [==============================] - 0s 515us/step - loss: 0.1186 - mse: 0.1186\n",
      "Epoch 21/30\n",
      "200/200 [==============================] - 0s 600us/step - loss: 0.1176 - mse: 0.1176\n",
      "Epoch 22/30\n",
      "200/200 [==============================] - 0s 541us/step - loss: 0.1167 - mse: 0.1167\n",
      "Epoch 23/30\n",
      "200/200 [==============================] - 0s 529us/step - loss: 0.1158 - mse: 0.1158\n",
      "Epoch 24/30\n",
      "200/200 [==============================] - 0s 514us/step - loss: 0.1150 - mse: 0.1150\n",
      "Epoch 25/30\n",
      "200/200 [==============================] - 0s 509us/step - loss: 0.1143 - mse: 0.1143\n",
      "Epoch 26/30\n",
      "200/200 [==============================] - 0s 509us/step - loss: 0.1136 - mse: 0.1136\n",
      "Epoch 27/30\n",
      "200/200 [==============================] - 0s 509us/step - loss: 0.1130 - mse: 0.1130\n",
      "Epoch 28/30\n",
      "200/200 [==============================] - 0s 495us/step - loss: 0.1124 - mse: 0.1124\n",
      "Epoch 29/30\n",
      "200/200 [==============================] - 0s 509us/step - loss: 0.1119 - mse: 0.1119\n",
      "Epoch 30/30\n",
      "200/200 [==============================] - 0s 574us/step - loss: 0.1114 - mse: 0.1114\n",
      "Linear regression model is trained to have weight w: 3.53, b: 0.83\n"
     ]
    },
    {
     "data": {
      "image/png": "[encoded data removed]",
      "text/plain": [
       "<Figure size 432x288 with 1 Axes>"
      ]
     },
     "metadata": {
      "needs_background": "light"
     },
     "output_type": "display_data"
    }
   ],
   "source": [
    "import keras\n",
    "from keras.models import Sequential\n",
    "from keras.layers import Dense, Activation\n",
    "import numpy as np\n",
    "import matplotlib.pyplot as plt \n",
    " \n",
    "x = data = np.linspace(1,2,200)\n",
    "y = x*4 + np.random.randn(*x.shape) * 0.3\n",
    "\n",
    "\n",
    "model = Sequential()\n",
    "model.add(Dense(1, input_dim=1, activation='linear'))\n",
    "\n",
    "model.compile(optimizer='sgd', loss='mse', metrics=['mse'])\n",
    "\n",
    "weights = model.layers[0].get_weights()\n",
    "w_init = weights[0][0][0]\n",
    "b_init = weights[1][0]\n",
    "print('Linear regression model is initialized with weights w: %.2f, b: %.2f' % (w_init, b_init)) \n",
    "\n",
    "\n",
    "model.fit(x,y, batch_size=1, epochs=30, shuffle=False)\n",
    "\n",
    "weights = model.layers[0].get_weights()\n",
    "w_final = weights[0][0][0]\n",
    "b_final = weights[1][0]\n",
    "print('Linear regression model is trained to have weight w: %.2f, b: %.2f' % (w_final, b_final))\n",
    "\n",
    "predict = model.predict(data)\n",
    "\n",
    "plt.plot(data, predict, 'b', data , y, 'k.')\n",
    "plt.show()"
   ]
  }
 ],
 "metadata": {
  "kernelspec": {
   "display_name": "Python 3",
   "language": "python",
   "name": "python3"
  },
  "language_info": {
   "codemirror_mode": {
    "name": "ipython",
    "version": 3
   },
   "file_extension": ".py",
   "mimetype": "text/x-python",
   "name": "python",
   "nbconvert_exporter": "python",
   "pygments_lexer": "ipython3",
   "version": "3.7.4"
  }
 },
 "nbformat": 4,
 "nbformat_minor": 2
}
