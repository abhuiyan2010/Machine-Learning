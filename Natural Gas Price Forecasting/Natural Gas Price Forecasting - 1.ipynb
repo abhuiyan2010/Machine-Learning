{
 "cells": [
  {
   "cell_type": "code",
   "execution_count": 1,
   "id": "df1f73c0",
   "metadata": {},
   "outputs": [
    {
     "name": "stdout",
     "output_type": "stream",
     "text": [
      "All libraries loaded\n"
     ]
    }
   ],
   "source": [
    "import numpy as np\n",
    "\n",
    "import torch\n",
    "import torch.optim as optim\n",
    "from torch.utils.data import TensorDataset, DataLoader\n",
    "\n",
    "import matplotlib.pyplot as plt\n",
    "from matplotlib.pyplot import figure\n",
    "import matplotlib.dates as mdate\n",
    "\n",
    "import pandas as pd\n",
    "import requests\n",
    "\n",
    "from sklearn.model_selection import train_test_split\n",
    "from sklearn.preprocessing import StandardScaler\n",
    "\n",
    "from tensorflow.keras.models import Sequential\n",
    "from tensorflow.keras.layers import Conv1D, MaxPooling1D, Flatten, Dense\n",
    "from tensorflow.keras.layers import SimpleRNN, Dense\n",
    "from tensorflow.keras.layers import LSTM, Dense\n",
    "from tensorflow.keras.layers import GRU, Dense\n",
    "\n",
    "\n",
    "from sklearn.model_selection import train_test_split\n",
    "from sklearn.metrics import mean_absolute_error, mean_squared_error\n",
    "import matplotlib.pyplot as plt\n",
    "\n",
    "\n",
    "print(\"All libraries loaded\")"
   ]
  },
  {
   "cell_type": "code",
   "execution_count": 2,
   "id": "da595b94",
   "metadata": {},
   "outputs": [],
   "source": [
    "def download_data(url, name='', usecols=None, sheet_name=1, header=2, plot=False): \n",
    "    \"\"\"\n",
    "    This function downloads and extracts relevant data from downloadable XLS files embedded on eia.gov\n",
    "\n",
    "    Args:\n",
    "        url (str): link address of the EIA XLS file\n",
    "        name (str, optional): Name of the data variable. Defaults to ''.\n",
    "        usecols (str, optional): XLS columns to extract (e.g., 'A:B'). Defaults to None.\n",
    "        sheet_name (int, optional): Sheet number of the XLS file that contains the data. Defaults to 1.\n",
    "        header (int, optional): How many rows of the XLS file are header files. Defaults to 2.\n",
    "        plot (bool, optional): Option to plot the data variable. Defaults to False.\n",
    "\n",
    "    Returns:\n",
    "        dict: dictionary containing data, number of data points/elements, range of dates, and the data variable name\n",
    "    \"\"\"\n",
    "    global config\n",
    "    \n",
    "    r = requests.get(url)\n",
    "    open('temp.xls', 'wb').write(r.content)\n",
    "    df = pd.read_excel('temp.xls', sheet_name=sheet_name, header=header, usecols=usecols) \n",
    "    df = df[~df.isnull().any(axis=1)] # remove rows with any missing data\n",
    "       \n",
    "    num_data_points = len(df)\n",
    "    \n",
    "    df2 = df.iloc[[0, -1]]    \n",
    "    date_range = \"from \" + str(df2.iloc[0,0]) + \" to \" + str(df2.iloc[1,0])\n",
    "    print(date_range, str(num_data_points) + ' Data Points')\n",
    "    \n",
    "    data_dict = {}\n",
    "    data_dict['data'] = df.rename(columns={df.keys()[0]: 'date', \n",
    "                            df.keys()[1]: name})\n",
    "    data_dict['num elements'] = num_data_points\n",
    "    data_dict['date range'] = date_range\n",
    "    data_dict['name'] = df.keys()[1]\n",
    "    \n",
    "    if plot:\n",
    "        fig = figure(figsize=(25, 5), dpi=80)\n",
    "        fig.patch.set_facecolor((1.0, 1.0, 1.0))\n",
    "        plt.plot(data_dict['data']['date'], data_dict['data'][name], color=config[\"plots\"][\"color_actual\"])\n",
    "        plt.title(data_dict['name'] + \", \" + data_dict['date range'] + \", \" + str(data_dict['num elements']) + \" Data Points\")\n",
    "\n",
    "        # Format the x axis\n",
    "        locator = mdate.MonthLocator(interval=config[\"plots\"][\"xticks_interval\"])\n",
    "        fmt = mdate.DateFormatter('%Y-%m')\n",
    "        X = plt.gca().xaxis\n",
    "        X.set_major_locator(locator)\n",
    "        # Specify formatter\n",
    "        X.set_major_formatter(fmt)\n",
    "        plt.xticks(rotation='vertical')\n",
    "        plt.xlim([data_dict['data'].iloc[0,0], data_dict['data'].iloc[-1,0]])\n",
    "\n",
    "        plt.grid(visible=None, which='major', axis='y', linestyle='--')\n",
    "        plt.show()\n",
    "         \n",
    "    return data_dict"
   ]
  },
  {
   "cell_type": "code",
   "execution_count": 3,
   "id": "48e46327",
   "metadata": {},
   "outputs": [],
   "source": [
    "plot = False"
   ]
  },
  {
   "cell_type": "code",
   "execution_count": 4,
   "id": "6e3a5aed",
   "metadata": {},
   "outputs": [
    {
     "name": "stdout",
     "output_type": "stream",
     "text": [
      "from 2003-05-26 00:00:00 to 2024-01-01 00:00:00 1076 Data Points\n",
      "           date  gas price\n",
      "1071 2023-12-04      4.389\n",
      "1072 2023-12-11      4.339\n",
      "1073 2023-12-18      4.277\n",
      "1074 2023-12-25      4.215\n",
      "1075 2024-01-01      4.225\n"
     ]
    }
   ],
   "source": [
    "seattle_gas_prices = download_data('https://www.eia.gov/dnav/pet/hist_xls/EMM_EPMRU_PTE_Y48SE_DPGw.xls', \n",
    "                                   name='gas price',\n",
    "                                  plot=plot)\n",
    "\n",
    "print(seattle_gas_prices['data'].tail())"
   ]
  },
  {
   "cell_type": "code",
   "execution_count": 5,
   "id": "42399307",
   "metadata": {},
   "outputs": [
    {
     "name": "stdout",
     "output_type": "stream",
     "text": [
      "from 1981-01-15 00:00:00 to 2023-10-15 00:00:00 514 Data Points\n",
      "        date  oil stock exchange\n",
      "0 1981-01-15               -1535\n",
      "1 1981-02-15                7773\n",
      "2 1981-03-15               19596\n",
      "3 1981-04-15               17853\n",
      "4 1981-05-15               12109\n"
     ]
    }
   ],
   "source": [
    "us_oil_stock = download_data('https://www.eia.gov/dnav/pet/hist_xls/MCRSCUS1m.xls',\n",
    "                             name='oil stock exchange',\n",
    "                             plot=plot)\n",
    "\n",
    "print(us_oil_stock['data'].head())"
   ]
  },
  {
   "cell_type": "code",
   "execution_count": 6,
   "id": "240800bd",
   "metadata": {},
   "outputs": [
    {
     "name": "stdout",
     "output_type": "stream",
     "text": [
      "from 1987-08-15 00:00:00 to 2023-11-15 00:00:00 436 Data Points\n",
      "          date  drilling activity\n",
      "175 1987-08-15              352.0\n",
      "176 1987-09-15              364.0\n",
      "177 1987-10-15              377.0\n",
      "178 1987-11-15              386.0\n",
      "179 1987-12-15              403.0\n"
     ]
    }
   ],
   "source": [
    "us_drilling_activity = download_data('https://www.eia.gov/dnav/pet/hist_xls/E_ERTRRG_XR0_NUS_Cm.xls',\n",
    "                             name='drilling activity',\n",
    "                             plot=plot)\n",
    "\n",
    "print(us_drilling_activity['data'].head())"
   ]
  },
  {
   "cell_type": "code",
   "execution_count": 7,
   "id": "c7010160",
   "metadata": {},
   "outputs": [
    {
     "name": "stdout",
     "output_type": "stream",
     "text": [
      "from 1973-01-15 00:00:00 to 2023-10-15 00:00:00 610 Data Points\n",
      "        date  gas production\n",
      "0 1973-01-15         1948000\n",
      "1 1973-02-15         1962000\n",
      "2 1973-03-15         1907000\n",
      "3 1973-04-15         1814000\n",
      "4 1973-05-15         1898000\n"
     ]
    }
   ],
   "source": [
    "us_gas_production = download_data('https://www.eia.gov/dnav/ng/hist_xls/N9050US2m.xls',\n",
    "                             name='gas production',\n",
    "                             plot=plot)\n",
    "\n",
    "print(us_gas_production['data'].head())"
   ]
  },
  {
   "cell_type": "code",
   "execution_count": 8,
   "id": "356ca314",
   "metadata": {},
   "outputs": [
    {
     "name": "stdout",
     "output_type": "stream",
     "text": [
      "from 2001-01-15 00:00:00 to 2023-10-15 00:00:00 274 Data Points\n",
      "        date  gas consumption\n",
      "0 2001-01-15          2676998\n",
      "1 2001-02-15          2309464\n",
      "2 2001-03-15          2246633\n",
      "3 2001-04-15          1807170\n",
      "4 2001-05-15          1522382\n"
     ]
    }
   ],
   "source": [
    "us_gas_consumption = download_data('https://www.eia.gov/dnav/ng/hist_xls/N9140US2m.xls',\n",
    "                             name='gas consumption',\n",
    "                             plot=plot)\n",
    "\n",
    "print(us_gas_consumption['data'].head())"
   ]
  },
  {
   "cell_type": "code",
   "execution_count": 9,
   "id": "2d9451cb",
   "metadata": {},
   "outputs": [
    {
     "name": "stdout",
     "output_type": "stream",
     "text": [
      "from 1989-01-15 00:00:00 to 2023-10-15 00:00:00 418 Data Points\n",
      "        date  gas storage\n",
      "0 1989-01-15      8119368\n",
      "1 1989-02-15      8119368\n",
      "2 1989-03-15      8119368\n",
      "3 1989-04-15      8119368\n",
      "4 1989-05-15      8119368\n"
     ]
    }
   ],
   "source": [
    "us_gas_storage = download_data('https://www.eia.gov/dnav/ng/xls/NG_STOR_CAP_DCU_NUS_M.xls',\n",
    "                             name='gas storage',\n",
    "                               usecols='A:B',\n",
    "                             plot=plot)\n",
    "\n",
    "print(us_gas_storage['data'].head())"
   ]
  },
  {
   "cell_type": "code",
   "execution_count": 10,
   "id": "3af561df",
   "metadata": {},
   "outputs": [
    {
     "name": "stdout",
     "output_type": "stream",
     "text": [
      "from 1973-01-15 00:00:00 to 2023-10-15 00:00:00 610 Data Points\n",
      "          date  gas import volume\n",
      "605 2023-06-15             231555\n",
      "606 2023-07-15             256094\n",
      "607 2023-08-15             246435\n",
      "608 2023-09-15             230008\n",
      "609 2023-10-15             230969\n"
     ]
    }
   ],
   "source": [
    "us_gas_import_volume = download_data('https://www.eia.gov/dnav/ng/xls/NG_MOVE_IMPC_S1_M.xls',\n",
    "                             name='gas import volume',\n",
    "                               usecols='A:B',\n",
    "                               sheet_name=1,\n",
    "                             plot=plot)\n",
    "\n",
    "print(us_gas_import_volume['data'].tail())"
   ]
  },
  {
   "cell_type": "code",
   "execution_count": 11,
   "id": "78b103b0",
   "metadata": {},
   "outputs": [
    {
     "name": "stdout",
     "output_type": "stream",
     "text": [
      "from 1989-01-15 00:00:00 to 2023-10-15 00:00:00 418 Data Points\n",
      "          date  gas import price\n",
      "413 2023-06-15              2.02\n",
      "414 2023-07-15              2.44\n",
      "415 2023-08-15              2.52\n",
      "416 2023-09-15              2.28\n",
      "417 2023-10-15              2.36\n"
     ]
    }
   ],
   "source": [
    "us_gas_import_price = download_data('https://www.eia.gov/dnav/ng/xls/NG_MOVE_IMPC_S1_M.xls',\n",
    "                             name='gas import price',\n",
    "                               usecols='A:B',\n",
    "                               sheet_name=2,\n",
    "                             plot=plot)\n",
    "\n",
    "print(us_gas_import_price['data'].tail())"
   ]
  },
  {
   "cell_type": "code",
   "execution_count": 12,
   "id": "d3fdb9da",
   "metadata": {},
   "outputs": [
    {
     "name": "stdout",
     "output_type": "stream",
     "text": [
      "from 1997-01-15 00:00:00 to 2023-12-15 00:00:00 324 Data Points\n",
      "        date  natural gas price\n",
      "0 1997-01-15               3.45\n",
      "1 1997-02-15               2.15\n",
      "2 1997-03-15               1.89\n",
      "3 1997-04-15               2.03\n",
      "4 1997-05-15               2.25\n"
     ]
    }
   ],
   "source": [
    "hh_natural_gas_price = download_data('https://www.eia.gov/dnav/ng/hist_xls/RNGWHHDm.xls',\n",
    "                             name='natural gas price',\n",
    "                             plot=plot)\n",
    "\n",
    "print(hh_natural_gas_price['data'].head())"
   ]
  },
  {
   "cell_type": "code",
   "execution_count": 13,
   "id": "ac42a40e",
   "metadata": {},
   "outputs": [
    {
     "name": "stdout",
     "output_type": "stream",
     "text": [
      "from 1986-01-15 00:00:00 to 2023-12-15 00:00:00 456 Data Points\n",
      "        date  crude oil price\n",
      "0 1986-01-15            22.93\n",
      "1 1986-02-15            15.46\n",
      "2 1986-03-15            12.61\n",
      "3 1986-04-15            12.84\n",
      "4 1986-05-15            15.38\n"
     ]
    }
   ],
   "source": [
    "us_crude_oil_price = download_data('https://www.eia.gov/dnav/pet/xls/PET_PRI_SPT_S1_M.xls',\n",
    "                                   name='crude oil price',\n",
    "                                   usecols='A:B',\n",
    "                                   sheet_name=1, \n",
    "                                   plot=plot)\n",
    "\n",
    "print(us_crude_oil_price['data'].head())"
   ]
  },
  {
   "cell_type": "code",
   "execution_count": 14,
   "id": "c1f8bbfa",
   "metadata": {},
   "outputs": [
    {
     "name": "stdout",
     "output_type": "stream",
     "text": [
      "from 1986-06-15 00:00:00 to 2023-12-15 00:00:00 451 Data Points\n",
      "        date  conventional gas price\n",
      "0 1986-06-15                   0.420\n",
      "1 1986-07-15                   0.340\n",
      "2 1986-08-15                   0.426\n",
      "3 1986-09-15                   0.420\n",
      "4 1986-10-15                   0.410\n"
     ]
    }
   ],
   "source": [
    "us_gas_price = download_data('https://www.eia.gov/dnav/pet/xls/PET_PRI_SPT_S1_M.xls',\n",
    "                                   name='conventional gas price',\n",
    "                                   usecols='A:B',\n",
    "                                   sheet_name=2, \n",
    "                                   plot=plot)\n",
    "\n",
    "print(us_gas_price['data'].head())"
   ]
  },
  {
   "cell_type": "code",
   "execution_count": 15,
   "id": "f0b1403c",
   "metadata": {},
   "outputs": [
    {
     "name": "stdout",
     "output_type": "stream",
     "text": [
      "from 2003-06-15 00:00:00 to 2023-12-15 00:00:00 247 Data Points\n",
      "        date  rbob gas price\n",
      "0 2003-06-15           1.072\n",
      "1 2003-07-15           0.965\n",
      "2 2003-08-15           1.315\n",
      "3 2003-09-15           0.949\n",
      "4 2003-10-15           0.996\n"
     ]
    }
   ],
   "source": [
    "us_rbob_price = download_data('https://www.eia.gov/dnav/pet/xls/PET_PRI_SPT_S1_M.xls',\n",
    "                                   name='rbob gas price',\n",
    "                                   usecols='A:B',\n",
    "                                   sheet_name=3, \n",
    "                                   plot=plot)\n",
    "\n",
    "print(us_rbob_price['data'].head())"
   ]
  },
  {
   "cell_type": "code",
   "execution_count": 16,
   "id": "7566385f",
   "metadata": {},
   "outputs": [
    {
     "name": "stdout",
     "output_type": "stream",
     "text": [
      "from 1986-06-15 00:00:00 to 2023-12-15 00:00:00 451 Data Points\n",
      "        date  heating oil price\n",
      "0 1986-06-15              0.380\n",
      "1 1986-07-15              0.334\n",
      "2 1986-08-15              0.408\n",
      "3 1986-09-15              0.402\n",
      "4 1986-10-15              0.394\n"
     ]
    }
   ],
   "source": [
    "us_heating_oil_price = download_data('https://www.eia.gov/dnav/pet/xls/PET_PRI_SPT_S1_M.xls',\n",
    "                                   name='heating oil price',\n",
    "                                   usecols='A:B',\n",
    "                                   sheet_name=4, \n",
    "                                   plot=plot)\n",
    "\n",
    "print(us_heating_oil_price['data'].head())"
   ]
  },
  {
   "cell_type": "code",
   "execution_count": 17,
   "id": "497bcac0",
   "metadata": {},
   "outputs": [
    {
     "name": "stdout",
     "output_type": "stream",
     "text": [
      "from 2006-06-15 00:00:00 to 2023-12-15 00:00:00 211 Data Points\n",
      "          date  diesel price\n",
      "122 2006-06-15         2.091\n",
      "123 2006-07-15         2.217\n",
      "124 2006-08-15         2.247\n",
      "125 2006-09-15         1.810\n",
      "126 2006-10-15         1.794\n"
     ]
    }
   ],
   "source": [
    "us_diesel_price = download_data('https://www.eia.gov/dnav/pet/xls/PET_PRI_SPT_S1_M.xls',\n",
    "                                   name='diesel price',\n",
    "                                   usecols='A:B',\n",
    "                                   sheet_name=5, \n",
    "                                   plot=plot)\n",
    "\n",
    "print(us_diesel_price['data'].head())"
   ]
  },
  {
   "cell_type": "code",
   "execution_count": 18,
   "id": "82d79607",
   "metadata": {},
   "outputs": [
    {
     "name": "stdout",
     "output_type": "stream",
     "text": [
      "from 1990-04-15 00:00:00 to 2023-12-15 00:00:00 405 Data Points\n",
      "          date  kerosene price\n",
      "400 2023-08-15           2.989\n",
      "401 2023-09-15           3.120\n",
      "402 2023-10-15           2.881\n",
      "403 2023-11-15           2.734\n",
      "404 2023-12-15           2.387\n"
     ]
    }
   ],
   "source": [
    "us_kerosene_price = download_data('https://www.eia.gov/dnav/pet/xls/PET_PRI_SPT_S1_M.xls',\n",
    "                                   name='kerosene price',\n",
    "                                   usecols='A:B',\n",
    "                                   sheet_name=6, \n",
    "                                   plot=plot)\n",
    "\n",
    "print(us_kerosene_price['data'].tail())"
   ]
  },
  {
   "cell_type": "code",
   "execution_count": 19,
   "id": "2fa36764",
   "metadata": {},
   "outputs": [
    {
     "name": "stdout",
     "output_type": "stream",
     "text": [
      "from 1992-06-15 00:00:00 to 2023-12-15 00:00:00 379 Data Points\n",
      "          date  propane price\n",
      "374 2023-08-15          0.679\n",
      "375 2023-09-15          0.730\n",
      "376 2023-10-15          0.675\n",
      "377 2023-11-15          0.639\n",
      "378 2023-12-15          0.687\n"
     ]
    }
   ],
   "source": [
    "us_propane_price = download_data('https://www.eia.gov/dnav/pet/xls/PET_PRI_SPT_S1_M.xls',\n",
    "                                   name='propane price',\n",
    "                                   usecols='A:B',\n",
    "                                   sheet_name=7, \n",
    "                                   plot=plot)\n",
    "\n",
    "print(us_propane_price['data'].tail())"
   ]
  },
  {
   "cell_type": "code",
   "execution_count": 20,
   "id": "2273f572",
   "metadata": {},
   "outputs": [],
   "source": [
    "# features\n",
    "feature_list = [\n",
    "    hh_natural_gas_price['data'],\n",
    "    us_crude_oil_price['data'],\n",
    "    us_gas_price['data'],\n",
    "    us_rbob_price['data'],\n",
    "    us_heating_oil_price['data'],\n",
    "    us_diesel_price['data'],\n",
    "    us_kerosene_price['data'],\n",
    "    us_propane_price['data'],\n",
    "    us_oil_stock['data'],\n",
    "    us_drilling_activity['data'],\n",
    "    us_gas_production['data'],\n",
    "    us_gas_consumption['data'],\n",
    "    us_gas_storage['data'],\n",
    "    us_gas_import_volume['data'],\n",
    "    us_gas_import_price['data']\n",
    "]\n",
    "\n",
    "# targets\n",
    "targets = seattle_gas_prices['data'].set_index('date')"
   ]
  },
  {
   "cell_type": "code",
   "execution_count": 21,
   "id": "a189170a",
   "metadata": {},
   "outputs": [
    {
     "data": {
      "text/html": [
       "<div>\n",
       "<style scoped>\n",
       "    .dataframe tbody tr th:only-of-type {\n",
       "        vertical-align: middle;\n",
       "    }\n",
       "\n",
       "    .dataframe tbody tr th {\n",
       "        vertical-align: top;\n",
       "    }\n",
       "\n",
       "    .dataframe thead th {\n",
       "        text-align: right;\n",
       "    }\n",
       "</style>\n",
       "<table border=\"1\" class=\"dataframe\">\n",
       "  <thead>\n",
       "    <tr style=\"text-align: right;\">\n",
       "      <th></th>\n",
       "      <th>crude oil price</th>\n",
       "      <th>conventional gas price</th>\n",
       "      <th>rbob gas price</th>\n",
       "      <th>heating oil price</th>\n",
       "      <th>diesel price</th>\n",
       "      <th>kerosene price</th>\n",
       "      <th>propane price</th>\n",
       "      <th>oil stock exchange</th>\n",
       "      <th>drilling activity</th>\n",
       "      <th>gas production</th>\n",
       "      <th>gas consumption</th>\n",
       "      <th>gas storage</th>\n",
       "      <th>gas import volume</th>\n",
       "      <th>gas import price</th>\n",
       "      <th>week number</th>\n",
       "      <th>gas price</th>\n",
       "    </tr>\n",
       "  </thead>\n",
       "  <tbody>\n",
       "    <tr>\n",
       "      <th>2006-06-19</th>\n",
       "      <td>71.411333</td>\n",
       "      <td>2.087933</td>\n",
       "      <td>2.412600</td>\n",
       "      <td>1.926333</td>\n",
       "      <td>2.107800</td>\n",
       "      <td>2.090733</td>\n",
       "      <td>1.106067</td>\n",
       "      <td>-4598.933333</td>\n",
       "      <td>1376.400000</td>\n",
       "      <td>1.618895e+06</td>\n",
       "      <td>1.578593e+06</td>\n",
       "      <td>8.247523e+06</td>\n",
       "      <td>351139.000000</td>\n",
       "      <td>5.846000</td>\n",
       "      <td>25.0</td>\n",
       "      <td>3.067</td>\n",
       "    </tr>\n",
       "    <tr>\n",
       "      <th>2006-06-26</th>\n",
       "      <td>72.218667</td>\n",
       "      <td>2.128067</td>\n",
       "      <td>2.432900</td>\n",
       "      <td>1.928667</td>\n",
       "      <td>2.137200</td>\n",
       "      <td>2.107767</td>\n",
       "      <td>1.121933</td>\n",
       "      <td>-4744.066667</td>\n",
       "      <td>1377.100000</td>\n",
       "      <td>1.627353e+06</td>\n",
       "      <td>1.627092e+06</td>\n",
       "      <td>8.249157e+06</td>\n",
       "      <td>356466.000000</td>\n",
       "      <td>5.874000</td>\n",
       "      <td>26.0</td>\n",
       "      <td>3.027</td>\n",
       "    </tr>\n",
       "    <tr>\n",
       "      <th>2006-07-03</th>\n",
       "      <td>73.026000</td>\n",
       "      <td>2.168200</td>\n",
       "      <td>2.453200</td>\n",
       "      <td>1.931000</td>\n",
       "      <td>2.166600</td>\n",
       "      <td>2.124800</td>\n",
       "      <td>1.137800</td>\n",
       "      <td>-4889.200000</td>\n",
       "      <td>1377.800000</td>\n",
       "      <td>1.635812e+06</td>\n",
       "      <td>1.675591e+06</td>\n",
       "      <td>8.250790e+06</td>\n",
       "      <td>361793.000000</td>\n",
       "      <td>5.902000</td>\n",
       "      <td>27.0</td>\n",
       "      <td>3.004</td>\n",
       "    </tr>\n",
       "    <tr>\n",
       "      <th>2006-07-10</th>\n",
       "      <td>73.833333</td>\n",
       "      <td>2.208333</td>\n",
       "      <td>2.473500</td>\n",
       "      <td>1.933333</td>\n",
       "      <td>2.196000</td>\n",
       "      <td>2.141833</td>\n",
       "      <td>1.153667</td>\n",
       "      <td>-5034.333333</td>\n",
       "      <td>1378.500000</td>\n",
       "      <td>1.644271e+06</td>\n",
       "      <td>1.724091e+06</td>\n",
       "      <td>8.252423e+06</td>\n",
       "      <td>367120.000000</td>\n",
       "      <td>5.930000</td>\n",
       "      <td>28.0</td>\n",
       "      <td>3.032</td>\n",
       "    </tr>\n",
       "    <tr>\n",
       "      <th>2006-07-17</th>\n",
       "      <td>74.321613</td>\n",
       "      <td>2.224161</td>\n",
       "      <td>2.468774</td>\n",
       "      <td>1.938161</td>\n",
       "      <td>2.218935</td>\n",
       "      <td>2.152645</td>\n",
       "      <td>1.163258</td>\n",
       "      <td>-4727.161290</td>\n",
       "      <td>1381.451613</td>\n",
       "      <td>1.650682e+06</td>\n",
       "      <td>1.758278e+06</td>\n",
       "      <td>8.253590e+06</td>\n",
       "      <td>370540.935484</td>\n",
       "      <td>6.000968</td>\n",
       "      <td>29.0</td>\n",
       "      <td>3.018</td>\n",
       "    </tr>\n",
       "    <tr>\n",
       "      <th>...</th>\n",
       "      <td>...</td>\n",
       "      <td>...</td>\n",
       "      <td>...</td>\n",
       "      <td>...</td>\n",
       "      <td>...</td>\n",
       "      <td>...</td>\n",
       "      <td>...</td>\n",
       "      <td>...</td>\n",
       "      <td>...</td>\n",
       "      <td>...</td>\n",
       "      <td>...</td>\n",
       "      <td>...</td>\n",
       "      <td>...</td>\n",
       "      <td>...</td>\n",
       "      <td>...</td>\n",
       "      <td>...</td>\n",
       "    </tr>\n",
       "    <tr>\n",
       "      <th>2023-12-04</th>\n",
       "      <td>74.023000</td>\n",
       "      <td>2.255333</td>\n",
       "      <td>2.394800</td>\n",
       "      <td>2.639367</td>\n",
       "      <td>2.732100</td>\n",
       "      <td>2.514233</td>\n",
       "      <td>0.669400</td>\n",
       "      <td>8602.000000</td>\n",
       "      <td>117.000000</td>\n",
       "      <td>3.542040e+06</td>\n",
       "      <td>2.440830e+06</td>\n",
       "      <td>9.275096e+06</td>\n",
       "      <td>230969.000000</td>\n",
       "      <td>2.360000</td>\n",
       "      <td>49.0</td>\n",
       "      <td>4.389</td>\n",
       "    </tr>\n",
       "    <tr>\n",
       "      <th>2023-12-11</th>\n",
       "      <td>72.672000</td>\n",
       "      <td>2.236667</td>\n",
       "      <td>2.347200</td>\n",
       "      <td>2.576133</td>\n",
       "      <td>2.668400</td>\n",
       "      <td>2.433267</td>\n",
       "      <td>0.680600</td>\n",
       "      <td>8602.000000</td>\n",
       "      <td>117.000000</td>\n",
       "      <td>3.542040e+06</td>\n",
       "      <td>2.440830e+06</td>\n",
       "      <td>9.275096e+06</td>\n",
       "      <td>230969.000000</td>\n",
       "      <td>2.360000</td>\n",
       "      <td>50.0</td>\n",
       "      <td>4.339</td>\n",
       "    </tr>\n",
       "    <tr>\n",
       "      <th>2023-12-18</th>\n",
       "      <td>71.900000</td>\n",
       "      <td>2.226000</td>\n",
       "      <td>2.320000</td>\n",
       "      <td>2.540000</td>\n",
       "      <td>2.632000</td>\n",
       "      <td>2.387000</td>\n",
       "      <td>0.687000</td>\n",
       "      <td>8602.000000</td>\n",
       "      <td>117.000000</td>\n",
       "      <td>3.542040e+06</td>\n",
       "      <td>2.440830e+06</td>\n",
       "      <td>9.275096e+06</td>\n",
       "      <td>230969.000000</td>\n",
       "      <td>2.360000</td>\n",
       "      <td>51.0</td>\n",
       "      <td>4.277</td>\n",
       "    </tr>\n",
       "    <tr>\n",
       "      <th>2023-12-25</th>\n",
       "      <td>71.900000</td>\n",
       "      <td>2.226000</td>\n",
       "      <td>2.320000</td>\n",
       "      <td>2.540000</td>\n",
       "      <td>2.632000</td>\n",
       "      <td>2.387000</td>\n",
       "      <td>0.687000</td>\n",
       "      <td>8602.000000</td>\n",
       "      <td>117.000000</td>\n",
       "      <td>3.542040e+06</td>\n",
       "      <td>2.440830e+06</td>\n",
       "      <td>9.275096e+06</td>\n",
       "      <td>230969.000000</td>\n",
       "      <td>2.360000</td>\n",
       "      <td>52.0</td>\n",
       "      <td>4.215</td>\n",
       "    </tr>\n",
       "    <tr>\n",
       "      <th>2024-01-01</th>\n",
       "      <td>71.900000</td>\n",
       "      <td>2.226000</td>\n",
       "      <td>2.320000</td>\n",
       "      <td>2.540000</td>\n",
       "      <td>2.632000</td>\n",
       "      <td>2.387000</td>\n",
       "      <td>0.687000</td>\n",
       "      <td>8602.000000</td>\n",
       "      <td>117.000000</td>\n",
       "      <td>3.542040e+06</td>\n",
       "      <td>2.440830e+06</td>\n",
       "      <td>9.275096e+06</td>\n",
       "      <td>230969.000000</td>\n",
       "      <td>2.360000</td>\n",
       "      <td>1.0</td>\n",
       "      <td>4.225</td>\n",
       "    </tr>\n",
       "  </tbody>\n",
       "</table>\n",
       "<p>916 rows × 16 columns</p>\n",
       "</div>"
      ],
      "text/plain": [
       "            crude oil price  conventional gas price  rbob gas price  \\\n",
       "2006-06-19        71.411333                2.087933        2.412600   \n",
       "2006-06-26        72.218667                2.128067        2.432900   \n",
       "2006-07-03        73.026000                2.168200        2.453200   \n",
       "2006-07-10        73.833333                2.208333        2.473500   \n",
       "2006-07-17        74.321613                2.224161        2.468774   \n",
       "...                     ...                     ...             ...   \n",
       "2023-12-04        74.023000                2.255333        2.394800   \n",
       "2023-12-11        72.672000                2.236667        2.347200   \n",
       "2023-12-18        71.900000                2.226000        2.320000   \n",
       "2023-12-25        71.900000                2.226000        2.320000   \n",
       "2024-01-01        71.900000                2.226000        2.320000   \n",
       "\n",
       "            heating oil price  diesel price  kerosene price  propane price  \\\n",
       "2006-06-19           1.926333      2.107800        2.090733       1.106067   \n",
       "2006-06-26           1.928667      2.137200        2.107767       1.121933   \n",
       "2006-07-03           1.931000      2.166600        2.124800       1.137800   \n",
       "2006-07-10           1.933333      2.196000        2.141833       1.153667   \n",
       "2006-07-17           1.938161      2.218935        2.152645       1.163258   \n",
       "...                       ...           ...             ...            ...   \n",
       "2023-12-04           2.639367      2.732100        2.514233       0.669400   \n",
       "2023-12-11           2.576133      2.668400        2.433267       0.680600   \n",
       "2023-12-18           2.540000      2.632000        2.387000       0.687000   \n",
       "2023-12-25           2.540000      2.632000        2.387000       0.687000   \n",
       "2024-01-01           2.540000      2.632000        2.387000       0.687000   \n",
       "\n",
       "            oil stock exchange  drilling activity  gas production  \\\n",
       "2006-06-19        -4598.933333        1376.400000    1.618895e+06   \n",
       "2006-06-26        -4744.066667        1377.100000    1.627353e+06   \n",
       "2006-07-03        -4889.200000        1377.800000    1.635812e+06   \n",
       "2006-07-10        -5034.333333        1378.500000    1.644271e+06   \n",
       "2006-07-17        -4727.161290        1381.451613    1.650682e+06   \n",
       "...                        ...                ...             ...   \n",
       "2023-12-04         8602.000000         117.000000    3.542040e+06   \n",
       "2023-12-11         8602.000000         117.000000    3.542040e+06   \n",
       "2023-12-18         8602.000000         117.000000    3.542040e+06   \n",
       "2023-12-25         8602.000000         117.000000    3.542040e+06   \n",
       "2024-01-01         8602.000000         117.000000    3.542040e+06   \n",
       "\n",
       "            gas consumption   gas storage  gas import volume  \\\n",
       "2006-06-19     1.578593e+06  8.247523e+06      351139.000000   \n",
       "2006-06-26     1.627092e+06  8.249157e+06      356466.000000   \n",
       "2006-07-03     1.675591e+06  8.250790e+06      361793.000000   \n",
       "2006-07-10     1.724091e+06  8.252423e+06      367120.000000   \n",
       "2006-07-17     1.758278e+06  8.253590e+06      370540.935484   \n",
       "...                     ...           ...                ...   \n",
       "2023-12-04     2.440830e+06  9.275096e+06      230969.000000   \n",
       "2023-12-11     2.440830e+06  9.275096e+06      230969.000000   \n",
       "2023-12-18     2.440830e+06  9.275096e+06      230969.000000   \n",
       "2023-12-25     2.440830e+06  9.275096e+06      230969.000000   \n",
       "2024-01-01     2.440830e+06  9.275096e+06      230969.000000   \n",
       "\n",
       "            gas import price  week number  gas price  \n",
       "2006-06-19          5.846000         25.0      3.067  \n",
       "2006-06-26          5.874000         26.0      3.027  \n",
       "2006-07-03          5.902000         27.0      3.004  \n",
       "2006-07-10          5.930000         28.0      3.032  \n",
       "2006-07-17          6.000968         29.0      3.018  \n",
       "...                      ...          ...        ...  \n",
       "2023-12-04          2.360000         49.0      4.389  \n",
       "2023-12-11          2.360000         50.0      4.339  \n",
       "2023-12-18          2.360000         51.0      4.277  \n",
       "2023-12-25          2.360000         52.0      4.215  \n",
       "2024-01-01          2.360000          1.0      4.225  \n",
       "\n",
       "[916 rows x 16 columns]"
      ]
     },
     "execution_count": 21,
     "metadata": {},
     "output_type": "execute_result"
    }
   ],
   "source": [
    "# reindex and concatenate features\n",
    "kw = dict(method=\"time\") # method to interpolate feature data to target date indices \n",
    "for i in range(0, len(feature_list)):\n",
    "    if i > 1:\n",
    "        feature = feature_list[i].set_index('date')\n",
    "        feature = feature.reindex(feature.index.union(targets.index)).interpolate(**kw).reindex(targets.index) # resample to target date indices\n",
    "        features = features.join(feature)\n",
    "    else:\n",
    "        feature = pd.DataFrame(feature_list[i]).set_index('date') # initiate dataframe on first loop iteration\n",
    "        features = feature.reindex(feature.index.union(targets.index)).interpolate(**kw).reindex(targets.index)  # resample to target date indices\n",
    "\n",
    "# add week number (1-52) as a feature\n",
    "features['week number'] = features.index.isocalendar().week\n",
    "features['week number'] = features['week number'].astype(float)\n",
    "    \n",
    "# combine features and targets into one data frame\n",
    "features_targets = features.join(targets)\n",
    "\n",
    "# get rid of rows with any missing data\n",
    "features_targets = features_targets[~features_targets.isnull().any(axis=1)]\n",
    "\n",
    "# convert index datetimes to dates (exclude hour, minute, second)\n",
    "features_targets.index = features_targets.index.date\n",
    "features_targets"
   ]
  },
  {
   "cell_type": "code",
   "execution_count": 22,
   "id": "040d4066",
   "metadata": {},
   "outputs": [],
   "source": [
    "data = features_targets\n",
    "target_name = 'gas price' # target variable name\n",
    "feature_names = features_targets.columns[0:-1].tolist() # exclude the last column aka the target variable\n",
    "\n",
    "timesteps = 8 # rolling lookback window length\n",
    "\n",
    "# Preallocate feature and target arrays\n",
    "X_ = np.zeros((len(data), timesteps, data.shape[1]-1))\n",
    "y_ = np.zeros((len(data), timesteps, 1))"
   ]
  },
  {
   "cell_type": "code",
   "execution_count": 23,
   "id": "f62bc4cf",
   "metadata": {},
   "outputs": [],
   "source": [
    "# Include rolling lookback window sequences in feature array\n",
    "for i, name in enumerate(list(data.columns[:-1])):\n",
    "    for j in range(timesteps):\n",
    "        X_[:, j, i] = data[name].shift(timesteps - j - 1).fillna(method=\"bfill\")"
   ]
  },
  {
   "cell_type": "code",
   "execution_count": 24,
   "id": "3fd3f4ae",
   "metadata": {},
   "outputs": [],
   "source": [
    "# Include rolling lookback window sequences in target history array\n",
    "for j in range(timesteps):\n",
    "    y_[:, j, 0] = data[target_name].shift(timesteps - j - 1).fillna(method=\"bfill\")"
   ]
  },
  {
   "cell_type": "code",
   "execution_count": 25,
   "id": "1ecd893a",
   "metadata": {},
   "outputs": [],
   "source": [
    "prediction_horizon = 1 # how far to train the neural nets to predict into the future \n",
    "target_ = data[target_name].shift(-prediction_horizon).fillna(method=\"ffill\").values # shift target values 'prediction_horizon' times into the future \n"
   ]
  },
  {
   "cell_type": "code",
   "execution_count": 26,
   "id": "1ecef305",
   "metadata": {},
   "outputs": [
    {
     "name": "stdout",
     "output_type": "stream",
     "text": [
      "641 137 138\n"
     ]
    }
   ],
   "source": [
    "# Dataset indices\n",
    "up_to_train_idx = int(data.shape[0]*0.70)\n",
    "up_to_val_idx = int(data.shape[0]*0.85)\n",
    "\n",
    "# Number of data points in each dataset\n",
    "train_length = up_to_train_idx\n",
    "val_length = up_to_val_idx - up_to_train_idx\n",
    "test_length = data.shape[0] - train_length - val_length\n",
    "\n",
    "print(train_length, val_length, test_length)"
   ]
  },
  {
   "cell_type": "code",
   "execution_count": 27,
   "id": "50903010",
   "metadata": {},
   "outputs": [],
   "source": [
    "# Exclude data points that don't have rolling window sequences\n",
    "X = X_[timesteps:]\n",
    "y = y_[timesteps:]\n",
    "target = target_[timesteps:]"
   ]
  },
  {
   "cell_type": "code",
   "execution_count": 28,
   "id": "ae6b750a",
   "metadata": {},
   "outputs": [],
   "source": [
    "# Split into train-val-test datasets\n",
    "X_train = X[:train_length]\n",
    "y_his_train = y[:train_length]\n",
    "X_val = X[train_length:train_length+val_length]\n",
    "y_his_val = y[train_length:train_length+val_length]\n",
    "X_test = X[-val_length:]\n",
    "y_his_test = y[-val_length:]\n",
    "target_train = target[:train_length]\n",
    "target_val = target[train_length:train_length+val_length]\n",
    "target_test = target[-val_length:]"
   ]
  },
  {
   "cell_type": "code",
   "execution_count": 29,
   "id": "0b502348",
   "metadata": {},
   "outputs": [],
   "source": [
    "class Normalizer():\n",
    "    def __init__(self):\n",
    "        self.max = None\n",
    "        self.min = None\n",
    "        self.range = None\n",
    "\n",
    "    def fit_transform(self, x):\n",
    "        \"\"\"\n",
    "        This function computes the max, min and range of values from the training dataset\n",
    "        These values will be used to normalize the training, validation, and testing datasets\n",
    "        This function returns the normalized training dataset (values fall within [0:1])\n",
    "\n",
    "        Args:\n",
    "            x (numpy array): training data\n",
    "\n",
    "        Returns:\n",
    "            numpy array: _description_\n",
    "        \"\"\"\n",
    "        self.max = x.max(axis=0)\n",
    "        self.min = x.min(axis=0)\n",
    "        self.range = self.max - self.min\n",
    "        normalized_x = (x - self.min)/self.range\n",
    "        return normalized_x\n",
    "    \n",
    "    def transform(self, x):\n",
    "        \"\"\"\n",
    "        This function performs a normalization of the input dataset\n",
    "\n",
    "        Args:\n",
    "            x (numpy array): dataset that is being normalized based on the class instances \n",
    "\n",
    "        Returns:\n",
    "            numpy array: normalized dataset\n",
    "        \"\"\"\n",
    "        return (x - self.min)/self.range\n",
    "\n",
    "    def inverse_transform(self, x):\n",
    "        \"\"\"\n",
    "        This function performs a de-normalization of the input dataset\n",
    "\n",
    "        Args:\n",
    "            x (numpy array): dataset that is being de-normalized based on the class instances\n",
    "\n",
    "        Returns:\n",
    "            numpy array: de-normalized dataset\n",
    "        \"\"\"\n",
    "        return (x*self.range) + self.min"
   ]
  },
  {
   "cell_type": "code",
   "execution_count": 30,
   "id": "a3a1d802",
   "metadata": {},
   "outputs": [],
   "source": [
    "# Create normalizer class objects\n",
    "x_scaler = Normalizer()\n",
    "y_his_scaler = Normalizer()\n",
    "target_scaler = Normalizer()"
   ]
  },
  {
   "cell_type": "code",
   "execution_count": 31,
   "id": "7e353f1c",
   "metadata": {},
   "outputs": [],
   "source": [
    "# Normalize features\n",
    "X_train = x_scaler.fit_transform(X_train)\n",
    "X_val = x_scaler.transform(X_val)\n",
    "X_test = x_scaler.transform(X_test)\n",
    "\n",
    "# Normalize target histories\n",
    "y_his_train = y_his_scaler.fit_transform(y_his_train)\n",
    "y_his_val = y_his_scaler.transform(y_his_val)\n",
    "y_his_test = y_his_scaler.transform(y_his_test)\n",
    "\n",
    "# Normalize target data\n",
    "target_train = target_scaler.fit_transform(target_train)\n",
    "target_val = target_scaler.transform(target_val)\n",
    "target_test = target_scaler.transform(target_test)"
   ]
  },
  {
   "cell_type": "code",
   "execution_count": null,
   "id": "8fd95e26",
   "metadata": {},
   "outputs": [],
   "source": []
  },
  {
   "cell_type": "code",
   "execution_count": 32,
   "id": "b7af27dd",
   "metadata": {},
   "outputs": [],
   "source": [
    "# Build Datasets\n",
    "X_train_t = torch.Tensor(X_train)\n",
    "X_val_t = torch.Tensor(X_val)\n",
    "X_test_t = torch.Tensor(X_test)\n",
    "y_his_train_t = torch.Tensor(y_his_train)\n",
    "y_his_val_t = torch.Tensor(y_his_val)\n",
    "y_his_test_t = torch.Tensor(y_his_test)\n",
    "target_train_t = torch.Tensor(target_train)\n",
    "target_val_t = torch.Tensor(target_val)\n",
    "target_test_t = torch.Tensor(target_test)"
   ]
  },
  {
   "cell_type": "code",
   "execution_count": 33,
   "id": "80990d21",
   "metadata": {},
   "outputs": [],
   "source": [
    "batch_size = 32\n",
    "\n",
    "# Build PyTorch DataLoaders\n",
    "data_train_loader = DataLoader(TensorDataset(X_train_t, y_his_train_t, target_train_t), shuffle=True, batch_size=batch_size)\n",
    "data_val_loader = DataLoader(TensorDataset(X_val_t, y_his_val_t, target_val_t), shuffle=False, batch_size=batch_size)\n",
    "data_test_loader = DataLoader(TensorDataset(X_test_t, y_his_test_t, target_test_t), shuffle=False, batch_size=batch_size)"
   ]
  },
  {
   "cell_type": "code",
   "execution_count": 34,
   "id": "1f72b465",
   "metadata": {},
   "outputs": [],
   "source": [
    "device = torch.device(\"cuda:0\" if torch.cuda.is_available() else \"cpu\") # training device\n",
    "n_timeseries = data.shape[1] - 1 # input size\n",
    "max_epochs = 250\n",
    "\n",
    "# LSTM architecture hyperparameters \n",
    "lstm_n_hidden = 64\n",
    "lstm_n_layers = 2\n",
    "\n",
    "# DA-RNN architecture hyperparameters\n",
    "darnn_n_enc_units = 64\n",
    "darnn_n_dec_units = 64 # 64\n",
    "\n",
    "# HRHN architecture hyperparameters\n",
    "harhn_n_enc_units = 64\n",
    "harhn_n_dec_units = 64"
   ]
  },
  {
   "cell_type": "code",
   "execution_count": 35,
   "id": "cc5bcae5",
   "metadata": {},
   "outputs": [
    {
     "ename": "TypeError",
     "evalue": "__init__() missing 1 required positional argument: 'units'",
     "output_type": "error",
     "traceback": [
      "\u001b[1;31m---------------------------------------------------------------------------\u001b[0m",
      "\u001b[1;31mTypeError\u001b[0m                                 Traceback (most recent call last)",
      "\u001b[1;32m~\\AppData\\Local\\Temp\\ipykernel_28820\\1151280938.py\u001b[0m in \u001b[0;36m<module>\u001b[1;34m\u001b[0m\n\u001b[1;32m----> 1\u001b[1;33m lstm = LSTM(num_classes=1, input_size=n_timeseries+1, hidden_size=lstm_n_hidden, num_layers=lstm_n_layers,\n\u001b[0m\u001b[0;32m      2\u001b[0m              seq_length=timesteps, device=device, dropout=0.2)\n\u001b[0;32m      3\u001b[0m \u001b[0mmodel_name\u001b[0m \u001b[1;33m=\u001b[0m \u001b[1;34m'lstm'\u001b[0m\u001b[1;33m\u001b[0m\u001b[1;33m\u001b[0m\u001b[0m\n\u001b[0;32m      4\u001b[0m \u001b[0mlstm_opt\u001b[0m \u001b[1;33m=\u001b[0m \u001b[0moptim\u001b[0m\u001b[1;33m.\u001b[0m\u001b[0mAdamW\u001b[0m\u001b[1;33m(\u001b[0m\u001b[0mlstm\u001b[0m\u001b[1;33m.\u001b[0m\u001b[0mparameters\u001b[0m\u001b[1;33m(\u001b[0m\u001b[1;33m)\u001b[0m\u001b[1;33m,\u001b[0m \u001b[0mlr\u001b[0m\u001b[1;33m=\u001b[0m\u001b[1;36m0.01\u001b[0m\u001b[1;33m)\u001b[0m \u001b[1;31m# optimizer\u001b[0m\u001b[1;33m\u001b[0m\u001b[1;33m\u001b[0m\u001b[0m\n\u001b[0;32m      5\u001b[0m \u001b[0mlstm_scheduler\u001b[0m \u001b[1;33m=\u001b[0m \u001b[0moptim\u001b[0m\u001b[1;33m.\u001b[0m\u001b[0mlr_scheduler\u001b[0m\u001b[1;33m.\u001b[0m\u001b[0mReduceLROnPlateau\u001b[0m\u001b[1;33m(\u001b[0m\u001b[0moptimizer\u001b[0m\u001b[1;33m=\u001b[0m\u001b[0mlstm_opt\u001b[0m\u001b[1;33m,\u001b[0m \u001b[0mpatience\u001b[0m\u001b[1;33m=\u001b[0m\u001b[1;36m15\u001b[0m\u001b[1;33m)\u001b[0m \u001b[1;31m# learing rate scheduler\u001b[0m\u001b[1;33m\u001b[0m\u001b[1;33m\u001b[0m\u001b[0m\n",
      "\u001b[1;31mTypeError\u001b[0m: __init__() missing 1 required positional argument: 'units'"
     ]
    }
   ],
   "source": [
    "lstm = LSTM(num_classes=1, input_size=n_timeseries+1, hidden_size=lstm_n_hidden, num_layers=lstm_n_layers,\n",
    "             seq_length=timesteps, device=device, dropout=0.2)\n",
    "model_name = 'lstm'\n",
    "lstm_opt = optim.AdamW(lstm.parameters(), lr=0.01) # optimizer\n",
    "lstm_scheduler = optim.lr_scheduler.ReduceLROnPlateau(optimizer=lstm_opt, patience=15) # learing rate scheduler"
   ]
  },
  {
   "cell_type": "code",
   "execution_count": 36,
   "id": "a7a07a34",
   "metadata": {},
   "outputs": [
    {
     "ename": "NameError",
     "evalue": "name 'nn_train' is not defined",
     "output_type": "error",
     "traceback": [
      "\u001b[1;31m---------------------------------------------------------------------------\u001b[0m",
      "\u001b[1;31mNameError\u001b[0m                                 Traceback (most recent call last)",
      "\u001b[1;32m~\\AppData\\Local\\Temp\\ipykernel_28820\\1537971728.py\u001b[0m in \u001b[0;36m<module>\u001b[1;34m\u001b[0m\n\u001b[1;32m----> 1\u001b[1;33m nn_train(model=lstm, \n\u001b[0m\u001b[0;32m      2\u001b[0m          \u001b[0mmodel_name\u001b[0m\u001b[1;33m=\u001b[0m\u001b[0mmodel_name\u001b[0m\u001b[1;33m,\u001b[0m\u001b[1;33m\u001b[0m\u001b[1;33m\u001b[0m\u001b[0m\n\u001b[0;32m      3\u001b[0m          \u001b[0mepochs\u001b[0m\u001b[1;33m=\u001b[0m\u001b[0mmax_epochs\u001b[0m\u001b[1;33m,\u001b[0m\u001b[1;33m\u001b[0m\u001b[1;33m\u001b[0m\u001b[0m\n\u001b[0;32m      4\u001b[0m          \u001b[0mdata_train_loader\u001b[0m\u001b[1;33m=\u001b[0m\u001b[0mdata_train_loader\u001b[0m\u001b[1;33m,\u001b[0m\u001b[1;33m\u001b[0m\u001b[1;33m\u001b[0m\u001b[0m\n\u001b[0;32m      5\u001b[0m          \u001b[0mdata_val_loader\u001b[0m\u001b[1;33m=\u001b[0m\u001b[0mdata_val_loader\u001b[0m\u001b[1;33m,\u001b[0m\u001b[1;33m\u001b[0m\u001b[1;33m\u001b[0m\u001b[0m\n",
      "\u001b[1;31mNameError\u001b[0m: name 'nn_train' is not defined"
     ]
    }
   ],
   "source": [
    "nn_train(model=lstm, \n",
    "         model_name=model_name, \n",
    "         epochs=max_epochs, \n",
    "         data_train_loader=data_train_loader, \n",
    "         data_val_loader=data_val_loader, \n",
    "         opt=lstm_opt, \n",
    "         scheduler=lstm_scheduler,\n",
    "         target_scaler=target_scaler,\n",
    "         device=device,\n",
    "         plot=True)"
   ]
  },
  {
   "cell_type": "code",
   "execution_count": null,
   "id": "18e47332",
   "metadata": {},
   "outputs": [],
   "source": [
    "# Load best-performing model\n",
    "lstm.load_state_dict(torch.load(f\"{model_name}.pt\"))"
   ]
  },
  {
   "cell_type": "code",
   "execution_count": null,
   "id": "1291fde8",
   "metadata": {},
   "outputs": [],
   "source": [
    "lstm_mse, lstm_mae, lstm_r2, lstm_pcc, lstm_preds, lstm_true, _, _ = nn_eval(model=lstm, \n",
    "                                                                             model_name='lstm', \n",
    "                                                                             data_test_loader=data_test_loader, \n",
    "                                                                             target_scaler=target_scaler, \n",
    "                                                                             device=device, \n",
    "                                                                             cols=feature_names\n",
    "                                                                             )"
   ]
  },
  {
   "cell_type": "code",
   "execution_count": null,
   "id": "6b5ac7d5",
   "metadata": {},
   "outputs": [],
   "source": [
    "nn_forecast(model = lstm,\n",
    "            model_name = 'lstm', \n",
    "            data = features_targets, \n",
    "            timesteps = timesteps, \n",
    "            n_timeseries = n_timeseries, \n",
    "            true = lstm_true, \n",
    "            preds = lstm_preds,\n",
    "            x_scaler = x_scaler, \n",
    "            y_his_scaler = y_his_scaler, \n",
    "            target_scaler = target_scaler,\n",
    "            device=device, \n",
    "            dates=data_date,\n",
    "            plot_range=10\n",
    "           )"
   ]
  },
  {
   "cell_type": "code",
   "execution_count": null,
   "id": "18dd2607",
   "metadata": {},
   "outputs": [],
   "source": [
    "model_names = ['Prophet', 'Neural Prophet', 'LSTM', 'DA-RNN', 'HRHN']\n",
    "\n",
    "df=pd.DataFrame({\"Root Mean Square Err.\":[prophet_mse**0.5, nprophet_mse**0.5, lstm_mse**0.5, darnn_mse**0.5, harhn_mse**0.5],\n",
    "                 \"Mean Absolute Err.\":[prophet_mae, nprophet_mae, lstm_mae, darnn_mae, harhn_mae], \n",
    "                 \"R2 Score\": [prophet_r2, nprophet_r2, lstm_r2, darnn_r2, harhn_r2], \n",
    "                 \"Pearson Corr. Coeff.\": [prophet_pcc, nprophet_pcc, lstm_pcc, darnn_pcc, harhn_pcc]\n",
    "                })\n",
    "df = df.round(decimals=3)\n",
    "df.index = model_names\n",
    "\n",
    "df = df.style.highlight_max(\n",
    "    subset = ['R2 Score', 'Pearson Corr. Coeff.'],\n",
    "    color = 'lightgreen', axis = 0).highlight_min(\n",
    "    subset = ['Root Mean Square Err.', 'Mean Absolute Err.'],\n",
    "    color = 'lightgreen', axis = 0)"
   ]
  },
  {
   "cell_type": "code",
   "execution_count": null,
   "id": "81b3327b",
   "metadata": {},
   "outputs": [],
   "source": []
  }
 ],
 "metadata": {
  "kernelspec": {
   "display_name": "Python 3 (ipykernel)",
   "language": "python",
   "name": "python3"
  },
  "language_info": {
   "codemirror_mode": {
    "name": "ipython",
    "version": 3
   },
   "file_extension": ".py",
   "mimetype": "text/x-python",
   "name": "python",
   "nbconvert_exporter": "python",
   "pygments_lexer": "ipython3",
   "version": "3.9.13"
  }
 },
 "nbformat": 4,
 "nbformat_minor": 5
}
