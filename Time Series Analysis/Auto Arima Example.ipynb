{
 "cells": [
  {
   "cell_type": "code",
   "execution_count": 1,
   "metadata": {},
   "outputs": [],
   "source": [
    "%matplotlib inline"
   ]
  },
  {
   "cell_type": "markdown",
   "metadata": {},
   "source": [
    "\n",
    "# Fitting an auto_arima model\n",
    "\n",
    "\n",
    "\n",
    "This example demonstrates how we can use the ``auto_arima`` function to\n",
    "select an optimal time series model. We'll be fitting our model on the lynx\n",
    "dataset available in the `datasets` submodule.\n",
    "\n",
    ".. raw:: html\n",
    "\n",
    "   <br/>\n",
    "\n"
   ]
  },
  {
   "cell_type": "code",
   "execution_count": 2,
   "metadata": {},
   "outputs": [
    {
     "name": "stdout",
     "output_type": "stream",
     "text": [
      "Performing stepwise search to minimize aic\n",
      " ARIMA(1,0,1)(1,1,1)[12] intercept   : AIC=inf, Time=0.48 sec\n",
      " ARIMA(0,0,0)(0,1,0)[12] intercept   : AIC=1432.919, Time=0.01 sec\n",
      " ARIMA(1,0,0)(1,1,0)[12] intercept   : AIC=1371.066, Time=0.24 sec\n",
      " ARIMA(0,0,1)(0,1,1)[12] intercept   : AIC=inf, Time=0.46 sec\n",
      " ARIMA(0,0,0)(0,1,0)[12]             : AIC=1430.945, Time=0.01 sec\n",
      " ARIMA(1,0,0)(0,1,0)[12] intercept   : AIC=1385.925, Time=0.02 sec\n",
      " ARIMA(1,0,0)(2,1,0)[12] intercept   : AIC=1364.096, Time=0.70 sec\n",
      " ARIMA(1,0,0)(3,1,0)[12] intercept   : AIC=inf, Time=1.63 sec\n",
      " ARIMA(1,0,0)(2,1,1)[12] intercept   : AIC=1353.390, Time=1.35 sec\n",
      " ARIMA(1,0,0)(1,1,1)[12] intercept   : AIC=inf, Time=0.64 sec\n",
      " ARIMA(1,0,0)(3,1,1)[12] intercept   : AIC=1343.625, Time=3.27 sec\n",
      " ARIMA(1,0,0)(4,1,1)[12] intercept   : AIC=inf, Time=5.44 sec\n",
      " ARIMA(1,0,0)(3,1,2)[12] intercept   : AIC=1345.611, Time=3.10 sec\n",
      " ARIMA(1,0,0)(2,1,2)[12] intercept   : AIC=1352.473, Time=1.46 sec\n",
      " ARIMA(1,0,0)(4,1,0)[12] intercept   : AIC=1343.676, Time=2.98 sec\n",
      " ARIMA(1,0,0)(4,1,2)[12] intercept   : AIC=inf, Time=5.92 sec\n",
      " ARIMA(0,0,0)(3,1,1)[12] intercept   : AIC=1389.109, Time=1.81 sec\n",
      " ARIMA(2,0,0)(3,1,1)[12] intercept   : AIC=1318.313, Time=2.77 sec\n",
      " ARIMA(2,0,0)(2,1,1)[12] intercept   : AIC=inf, Time=1.56 sec\n",
      " ARIMA(2,0,0)(3,1,0)[12] intercept   : AIC=1319.013, Time=2.01 sec\n",
      " ARIMA(2,0,0)(4,1,1)[12] intercept   : AIC=inf, Time=5.60 sec\n",
      " ARIMA(2,0,0)(3,1,2)[12] intercept   : AIC=inf, Time=3.63 sec\n",
      " ARIMA(2,0,0)(2,1,0)[12] intercept   : AIC=1327.241, Time=0.93 sec\n",
      " ARIMA(2,0,0)(2,1,2)[12] intercept   : AIC=inf, Time=1.81 sec\n",
      " ARIMA(2,0,0)(4,1,0)[12] intercept   : AIC=1319.733, Time=3.21 sec\n",
      " ARIMA(2,0,0)(4,1,2)[12] intercept   : AIC=inf, Time=5.72 sec\n",
      " ARIMA(3,0,0)(3,1,1)[12] intercept   : AIC=1320.205, Time=3.51 sec\n",
      " ARIMA(2,0,1)(3,1,1)[12] intercept   : AIC=1319.936, Time=3.62 sec\n",
      " ARIMA(1,0,1)(3,1,1)[12] intercept   : AIC=1326.769, Time=2.98 sec\n",
      " ARIMA(3,0,1)(3,1,1)[12] intercept   : AIC=inf, Time=4.58 sec\n",
      " ARIMA(2,0,0)(3,1,1)[12]             : AIC=1317.947, Time=2.45 sec\n",
      " ARIMA(2,0,0)(2,1,1)[12]             : AIC=inf, Time=1.49 sec\n",
      " ARIMA(2,0,0)(3,1,0)[12]             : AIC=1317.935, Time=1.64 sec\n",
      " ARIMA(2,0,0)(2,1,0)[12]             : AIC=1325.550, Time=0.80 sec\n",
      " ARIMA(2,0,0)(4,1,0)[12]             : AIC=1318.686, Time=2.67 sec\n",
      " ARIMA(2,0,0)(4,1,1)[12]             : AIC=1319.955, Time=5.15 sec\n",
      " ARIMA(1,0,0)(3,1,0)[12]             : AIC=1340.383, Time=1.46 sec\n",
      " ARIMA(3,0,0)(3,1,0)[12]             : AIC=1319.876, Time=2.15 sec\n",
      " ARIMA(2,0,1)(3,1,0)[12]             : AIC=1319.765, Time=2.03 sec\n",
      " ARIMA(1,0,1)(3,1,0)[12]             : AIC=1323.346, Time=1.54 sec\n",
      " ARIMA(3,0,1)(3,1,0)[12]             : AIC=1321.275, Time=2.95 sec\n",
      "\n",
      "Best model:  ARIMA(2,0,0)(3,1,0)[12]          \n",
      "Total fit time: 95.791 seconds\n"
     ]
    }
   ],
   "source": [
    "import pmdarima as pm\n",
    "from pmdarima import model_selection\n",
    "from sklearn.metrics import mean_squared_error\n",
    "import matplotlib.pyplot as plt\n",
    "import numpy as np\n",
    "\n",
    "# #############################################################################\n",
    "# Load the data and split it into separate pieces\n",
    "data = pm.datasets.load_lynx()\n",
    "train, test = model_selection.train_test_split(data, train_size=90)\n",
    "\n",
    "# Fit a simple auto_arima model with m=12 as there are seasonal pattern repeating at every 12 months\n",
    "model = pm.auto_arima(train, start_p=1, start_q=1, start_P=1, start_Q=1,\n",
    "                     max_p=5, max_q=5, max_P=5, max_Q=5, seasonal=True, m=12,\n",
    "                     d=None, D=1, max_D=10, \n",
    "                     trace=True, stepwise=True, suppress_warnings=True, error_action='ignore')"
   ]
  },
  {
   "cell_type": "code",
   "execution_count": 6,
   "metadata": {},
   "outputs": [
    {
     "data": {
      "text/html": [
       "<table class=\"simpletable\">\n",
       "<caption>SARIMAX Results</caption>\n",
       "<tr>\n",
       "  <th>Dep. Variable:</th>                  <td>y</td>               <th>  No. Observations:  </th>    <td>90</td>   \n",
       "</tr>\n",
       "<tr>\n",
       "  <th>Model:</th>           <td>SARIMAX(2, 0, 0)x(3, 1, 0, 12)</td> <th>  Log Likelihood     </th> <td>-652.968</td>\n",
       "</tr>\n",
       "<tr>\n",
       "  <th>Date:</th>                   <td>Thu, 18 Feb 2021</td>        <th>  AIC                </th> <td>1317.935</td>\n",
       "</tr>\n",
       "<tr>\n",
       "  <th>Time:</th>                       <td>15:54:51</td>            <th>  BIC                </th> <td>1332.076</td>\n",
       "</tr>\n",
       "<tr>\n",
       "  <th>Sample:</th>                         <td>0</td>               <th>  HQIC               </th> <td>1323.596</td>\n",
       "</tr>\n",
       "<tr>\n",
       "  <th></th>                              <td> - 90</td>             <th>                     </th>     <td> </td>   \n",
       "</tr>\n",
       "<tr>\n",
       "  <th>Covariance Type:</th>               <td>opg</td>              <th>                     </th>     <td> </td>   \n",
       "</tr>\n",
       "</table>\n",
       "<table class=\"simpletable\">\n",
       "<tr>\n",
       "      <td></td>        <th>coef</th>     <th>std err</th>      <th>z</th>      <th>P>|z|</th>  <th>[0.025</th>    <th>0.975]</th>  \n",
       "</tr>\n",
       "<tr>\n",
       "  <th>ar.L1</th>    <td>    1.1187</td> <td>    0.090</td> <td>   12.417</td> <td> 0.000</td> <td>    0.942</td> <td>    1.295</td>\n",
       "</tr>\n",
       "<tr>\n",
       "  <th>ar.L2</th>    <td>   -0.5597</td> <td>    0.113</td> <td>   -4.972</td> <td> 0.000</td> <td>   -0.780</td> <td>   -0.339</td>\n",
       "</tr>\n",
       "<tr>\n",
       "  <th>ar.S.L12</th> <td>   -0.7923</td> <td>    0.140</td> <td>   -5.656</td> <td> 0.000</td> <td>   -1.067</td> <td>   -0.518</td>\n",
       "</tr>\n",
       "<tr>\n",
       "  <th>ar.S.L24</th> <td>   -0.5883</td> <td>    0.162</td> <td>   -3.642</td> <td> 0.000</td> <td>   -0.905</td> <td>   -0.272</td>\n",
       "</tr>\n",
       "<tr>\n",
       "  <th>ar.S.L36</th> <td>   -0.4890</td> <td>    0.109</td> <td>   -4.474</td> <td> 0.000</td> <td>   -0.703</td> <td>   -0.275</td>\n",
       "</tr>\n",
       "<tr>\n",
       "  <th>sigma2</th>   <td> 9.486e+05</td> <td> 1.34e+05</td> <td>    7.058</td> <td> 0.000</td> <td> 6.85e+05</td> <td> 1.21e+06</td>\n",
       "</tr>\n",
       "</table>\n",
       "<table class=\"simpletable\">\n",
       "<tr>\n",
       "  <th>Ljung-Box (L1) (Q):</th>     <td>0.02</td> <th>  Jarque-Bera (JB):  </th> <td>28.33</td>\n",
       "</tr>\n",
       "<tr>\n",
       "  <th>Prob(Q):</th>                <td>0.88</td> <th>  Prob(JB):          </th> <td>0.00</td> \n",
       "</tr>\n",
       "<tr>\n",
       "  <th>Heteroskedasticity (H):</th> <td>2.97</td> <th>  Skew:              </th> <td>0.94</td> \n",
       "</tr>\n",
       "<tr>\n",
       "  <th>Prob(H) (two-sided):</th>    <td>0.01</td> <th>  Kurtosis:          </th> <td>5.28</td> \n",
       "</tr>\n",
       "</table><br/><br/>Warnings:<br/>[1] Covariance matrix calculated using the outer product of gradients (complex-step)."
      ],
      "text/plain": [
       "<class 'statsmodels.iolib.summary.Summary'>\n",
       "\"\"\"\n",
       "                                     SARIMAX Results                                      \n",
       "==========================================================================================\n",
       "Dep. Variable:                                  y   No. Observations:                   90\n",
       "Model:             SARIMAX(2, 0, 0)x(3, 1, 0, 12)   Log Likelihood                -652.968\n",
       "Date:                            Thu, 18 Feb 2021   AIC                           1317.935\n",
       "Time:                                    15:54:51   BIC                           1332.076\n",
       "Sample:                                         0   HQIC                          1323.596\n",
       "                                             - 90                                         \n",
       "Covariance Type:                              opg                                         \n",
       "==============================================================================\n",
       "                 coef    std err          z      P>|z|      [0.025      0.975]\n",
       "------------------------------------------------------------------------------\n",
       "ar.L1          1.1187      0.090     12.417      0.000       0.942       1.295\n",
       "ar.L2         -0.5597      0.113     -4.972      0.000      -0.780      -0.339\n",
       "ar.S.L12      -0.7923      0.140     -5.656      0.000      -1.067      -0.518\n",
       "ar.S.L24      -0.5883      0.162     -3.642      0.000      -0.905      -0.272\n",
       "ar.S.L36      -0.4890      0.109     -4.474      0.000      -0.703      -0.275\n",
       "sigma2      9.486e+05   1.34e+05      7.058      0.000    6.85e+05    1.21e+06\n",
       "===================================================================================\n",
       "Ljung-Box (L1) (Q):                   0.02   Jarque-Bera (JB):                28.33\n",
       "Prob(Q):                              0.88   Prob(JB):                         0.00\n",
       "Heteroskedasticity (H):               2.97   Skew:                             0.94\n",
       "Prob(H) (two-sided):                  0.01   Kurtosis:                         5.28\n",
       "===================================================================================\n",
       "\n",
       "Warnings:\n",
       "[1] Covariance matrix calculated using the outer product of gradients (complex-step).\n",
       "\"\"\""
      ]
     },
     "execution_count": 6,
     "metadata": {},
     "output_type": "execute_result"
    }
   ],
   "source": [
    "# To print the summary \n",
    "model.summary() "
   ]
  },
  {
   "cell_type": "code",
   "execution_count": 7,
   "metadata": {},
   "outputs": [
    {
     "name": "stdout",
     "output_type": "stream",
     "text": [
      "Test RMSE: 1259.204\n"
     ]
    }
   ],
   "source": [
    "# Create predictions for the future, evaluate on test\n",
    "prediction, coef_int = model.predict(n_periods=test.shape[0], return_conf_int=True)\n",
    "\n",
    "# Print the error:\n",
    "print(\"Test RMSE: %.3f\" % np.sqrt(mean_squared_error(test, prediction)))"
   ]
  },
  {
   "cell_type": "code",
   "execution_count": 9,
   "metadata": {},
   "outputs": [
    {
     "data": {
      "text/plain": [
       "Text(0.5, 0, 'Year')"
      ]
     },
     "execution_count": 9,
     "metadata": {},
     "output_type": "execute_result"
    },
    {
     "data": {
      "image/png": "[encoded data removed]",
      "text/plain": [
       "<Figure size 432x288 with 1 Axes>"
      ]
     },
     "metadata": {
      "needs_background": "light"
     },
     "output_type": "display_data"
    }
   ],
   "source": [
    "# #############################################################################\n",
    "# Plot the points and the forecasts\n",
    "x_axis = np.arange(train.shape[0] + prediction.shape[0])\n",
    "x_years = x_axis + 1821  # Year starts at 1821\n",
    "\n",
    "\n",
    "plt.plot(x_years[x_axis[:train.shape[0]]], train, alpha=0.75)\n",
    "plt.plot(x_years[x_axis[train.shape[0]:]], prediction, alpha=0.75)  # Forecasts\n",
    "plt.scatter(x_years[x_axis[train.shape[0]:]], test,alpha=0.4, marker='x')  # Test data\n",
    "\n",
    "plt.fill_between(x_years[x_axis[-prediction.shape[0]:]],coef_int[:, 0], coef_int[:, 1], alpha=0.1, color='b')\n",
    "\n",
    "plt.title(\"Lynx forecasts\")\n",
    "plt.xlabel(\"Year\")"
   ]
  }
 ],
 "metadata": {
  "kernelspec": {
   "display_name": "Python 3",
   "language": "python",
   "name": "python3"
  },
  "language_info": {
   "codemirror_mode": {
    "name": "ipython",
    "version": 3
   },
   "file_extension": ".py",
   "mimetype": "text/x-python",
   "name": "python",
   "nbconvert_exporter": "python",
   "pygments_lexer": "ipython3",
   "version": "3.7.4"
  }
 },
 "nbformat": 4,
 "nbformat_minor": 1
}
